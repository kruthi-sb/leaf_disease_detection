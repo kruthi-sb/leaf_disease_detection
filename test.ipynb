{
 "cells": [
  {
   "cell_type": "markdown",
   "metadata": {},
   "source": [
    "# Tensorflow GPU Test"
   ]
  },
  {
   "cell_type": "code",
   "execution_count": 3,
   "metadata": {},
   "outputs": [
    {
     "name": "stdout",
     "output_type": "stream",
     "text": [
      "True\n",
      "[PhysicalDevice(name='/physical_device:GPU:0', device_type='GPU')]\n"
     ]
    }
   ],
   "source": [
    "import tensorflow as tf\n",
    "# test the gpu working for tensorflow\n",
    "print(tf.test.is_built_with_cuda())\n",
    "\n",
    "# display the gpu device\n",
    "print(tf.config.list_physical_devices('GPU'))"
   ]
  },
  {
   "cell_type": "markdown",
   "metadata": {},
   "source": [
    "# Gemini API Test"
   ]
  },
  {
   "cell_type": "code",
   "execution_count": 2,
   "metadata": {},
   "outputs": [
    {
     "name": "stdout",
     "output_type": "stream",
     "text": [
      "models/gemini-1.0-pro\n",
      "models/gemini-1.0-pro-001\n",
      "models/gemini-1.0-pro-latest\n",
      "models/gemini-1.0-pro-vision-latest\n",
      "models/gemini-pro\n",
      "models/gemini-pro-vision\n"
     ]
    }
   ],
   "source": [
    "import os\n",
    "import google.generativeai as genai\n",
    "\n",
    "key = os.getenv('gemini_pro')\n",
    "\n",
    "# to see available gemini models:\n",
    "for m in genai.list_models():\n",
    "  if 'generateContent' in m.supported_generation_methods:\n",
    "    print(m.name)"
   ]
  },
  {
   "cell_type": "code",
   "execution_count": 5,
   "metadata": {},
   "outputs": [],
   "source": [
    "import pathlib\n",
    "import textwrap\n",
    "from IPython.display import display\n",
    "from IPython.display import Markdown\n",
    "\n",
    "# turn response into markdown content\n",
    "def to_markdown(text):\n",
    "  text = text.replace('•', '  *')\n",
    "  return Markdown(textwrap.indent(text, '> ', predicate=lambda _: True))"
   ]
  },
  {
   "cell_type": "markdown",
   "metadata": {},
   "source": [
    "## Text Model : Gemini Pro test"
   ]
  },
  {
   "cell_type": "code",
   "execution_count": 17,
   "metadata": {},
   "outputs": [
    {
     "data": {
      "text/markdown": [
       "> **Tomato leaf mosaic virus (ToLMV)**\n",
       "> \n",
       "> **Overview:**\n",
       "> \n",
       "> * Tomato leaf mosaic virus (ToLMV) is a highly contagious viral disease that affects tomato plants.\n",
       "> * It belongs to the genus Tobamovirus and is transmitted by mechanical means, such as contact with infected plant material or through contaminated tools and equipment.\n",
       "> \n",
       "> **Symptoms:**\n",
       "> \n",
       "> * Infected tomato plants may exhibit a range of symptoms, including:\n",
       ">     * Mosaic patterns or yellowing on the leaves\n",
       ">     * Stunted growth\n",
       ">     * Leaf distortion and curling\n",
       ">     * Reduced fruit yield\n",
       ">     * Poor fruit quality\n",
       "> \n",
       "> **Remedies and Management Strategies:**\n",
       "> \n",
       "> * Since ToLMV is a viral disease, there is no specific cure or treatment available.\n",
       "> * The best approach is to focus on preventive measures and cultural practices to minimize the risk of infection and spread:\n",
       ">     * Use certified disease-free seeds or transplants.\n",
       ">     * Practice crop rotation to avoid continuous planting of tomatoes in the same field.\n",
       ">     * Regularly inspect your tomato plants for signs of infection.\n",
       ">     * Remove and destroy infected plants immediately to prevent further spread.\n",
       ">     * Practice good hygiene by disinfecting tools and equipment between uses.\n",
       ">     * Consider using resistant tomato varieties, if available.\n",
       ">     * Control vectors like aphids, whiteflies, and thrips, which can transmit the virus.\n",
       ">     * Use physical barriers like row covers or mulches to prevent the entry of vectors.\n",
       "> \n",
       "> **Additional Tips:**\n",
       "> \n",
       "> * Avoid working with tomato plants when they are wet, as this can facilitate the spread of the virus.\n",
       "> * Keep your garden clean and free of weeds, as they can harbor病毒and other pests.\n",
       "> * Practice proper sanitation by cleaning and disinfecting your gardening tools and equipment regularly.\n",
       "> * Monitor your tomato plants regularly and take prompt action to remove any infected plants.\n",
       "> \n",
       "> **Note:**\n",
       "> \n",
       "> * If you suspect a ToLMV infection in your tomato plants, it's advisable to consult with agricultural experts or extension services for specific recommendations and guidance based on your region and growing conditions."
      ],
      "text/plain": [
       "<IPython.core.display.Markdown object>"
      ]
     },
     "execution_count": 17,
     "metadata": {},
     "output_type": "execute_result"
    }
   ],
   "source": [
    "txt_model = genai.GenerativeModel('gemini-pro')\n",
    "response = txt_model.generate_content(\"I want the information on Tomato leaf mosaic virus. If it is a disease, then provide remedies to cure the disease.\")\n",
    "\n",
    "to_markdown(response.text)"
   ]
  },
  {
   "cell_type": "code",
   "execution_count": null,
   "metadata": {},
   "outputs": [],
   "source": [
    "\"\"\"for chunk in response:\n",
    "  print(chunk.text)\n",
    "  print(\"_\"*80)\"\"\""
   ]
  },
  {
   "cell_type": "markdown",
   "metadata": {},
   "source": [
    "## Vision model : Gemini Vision Pro test"
   ]
  },
  {
   "cell_type": "code",
   "execution_count": 15,
   "metadata": {},
   "outputs": [
    {
     "data": {
      "text/markdown": [
       ">  **Rust**\n",
       "> **Symptoms**\n",
       "> The symptoms of this disease are reddish brown spots on the leaves, which later turn into black spots. The spots are surrounded by a yellow halo. The disease can cause the leaves to turn yellow and die prematurely.\n",
       "> \n",
       "> **Control**\n",
       "> There are several ways to control corn rust. The first is to use resistant varieties of corn. The second is to avoid planting corn in areas where the disease is known to occur. The third is to use fungicides to protect the plants from infection.\n",
       "> \n",
       "> **Remedies**\n",
       "> There are several home remedies that can be used to treat corn rust. One is to spray the plants with a solution of baking soda and water. Another is to spray the plants with a solution of milk and water. A third is to spray the plants with a solution of apple cider vinegar and water."
      ],
      "text/plain": [
       "<IPython.core.display.Markdown object>"
      ]
     },
     "execution_count": 15,
     "metadata": {},
     "output_type": "execute_result"
    }
   ],
   "source": [
    "# for vision model:\n",
    "import PIL.Image as Image\n",
    "\n",
    "\"\"\"img = Image.open('/path/to/img.jpg')\n",
    "img_model = genai.GenerativeModel('gemini-pro-vision')\n",
    "response = img_model.generate_content([\"If it is a disease, then provide remedies to cure the disease.\", img], stream=True)\n",
    "response.resolve()\n",
    "to_markdown(response.text)\"\"\""
   ]
  }
 ],
 "metadata": {
  "kernelspec": {
   "display_name": "tf_gpu",
   "language": "python",
   "name": "python3"
  },
  "language_info": {
   "codemirror_mode": {
    "name": "ipython",
    "version": 3
   },
   "file_extension": ".py",
   "mimetype": "text/x-python",
   "name": "python",
   "nbconvert_exporter": "python",
   "pygments_lexer": "ipython3",
   "version": "3.9.18"
  }
 },
 "nbformat": 4,
 "nbformat_minor": 2
}
